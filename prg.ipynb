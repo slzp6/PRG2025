{
  "nbformat": 4,
  "nbformat_minor": 0,
  "metadata": {
    "colab": {
      "provenance": []
    },
    "kernelspec": {
      "name": "python3",
      "display_name": "Python 3"
    },
    "language_info": {
      "name": "python"
    }
  },
  "cells": [
    {
      "cell_type": "markdown",
      "source": [
        "\n",
        "\n",
        "---\n",
        "\n",
        "\n",
        "# プログラミング応用  （2025年4月開講予定）\n",
        "\n",
        "\n",
        "---\n",
        "\n",
        "\n",
        "- 放送大学大学院\n",
        "- 2025"
      ],
      "metadata": {
        "id": "RP8txauM6RqX"
      }
    },
    {
      "cell_type": "code",
      "execution_count": 8,
      "metadata": {
        "colab": {
          "base_uri": "https://localhost:8080/"
        },
        "id": "TgTaLESK6NIO",
        "outputId": "fb6b30bc-d62c-4c9c-ecc6-6692b660a813"
      },
      "outputs": [
        {
          "output_type": "stream",
          "name": "stdout",
          "text": [
            "Linux\n",
            "#1 SMP PREEMPT_DYNAMIC Thu Jun 27 21:05:47 UTC 2024\n",
            "Linux-6.1.85+-x86_64-with-glibc2.35\n"
          ]
        }
      ],
      "source": [
        "import platform\n",
        "\n",
        "print(platform.version())\n",
        "print(platform.platform())"
      ]
    }
  ]
}