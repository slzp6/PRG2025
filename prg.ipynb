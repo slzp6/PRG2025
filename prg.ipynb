{
  "nbformat": 4,
  "nbformat_minor": 0,
  "metadata": {
    "colab": {
      "provenance": []
    },
    "kernelspec": {
      "name": "python3",
      "display_name": "Python 3"
    },
    "language_info": {
      "name": "python"
    }
  },
  "cells": [
    {
      "cell_type": "markdown",
      "source": [
        "\n",
        "\n",
        "---\n",
        "\n",
        "\n",
        "# プログラミング応用  （2025年4月開講予定）\n",
        "- 放送大学大学院・情報学プログラム　オンライン科目\n",
        "\n",
        "- 本科目のコードは2025年3月初旬頃に公開の予定です。\n"
      ],
      "metadata": {
        "id": "RP8txauM6RqX"
      }
    },
    {
      "cell_type": "markdown",
      "source": [
        "\n",
        "\n",
        "---\n",
        "\n"
      ],
      "metadata": {
        "id": "EH_0CbimSyT_"
      }
    },
    {
      "cell_type": "code",
      "execution_count": 1,
      "metadata": {
        "colab": {
          "base_uri": "https://localhost:8080/"
        },
        "id": "TgTaLESK6NIO",
        "outputId": "2d18134e-19b0-4d1d-c26d-df6f8ca3f473"
      },
      "outputs": [
        {
          "output_type": "stream",
          "name": "stdout",
          "text": [
            "#1 SMP PREEMPT_DYNAMIC Thu Jun 27 21:05:47 UTC 2024\n",
            "Linux-6.1.85+-x86_64-with-glibc2.35\n"
          ]
        }
      ],
      "source": [
        "import platform\n",
        "\n",
        "print(platform.version())\n",
        "print(platform.platform())"
      ]
    },
    {
      "cell_type": "markdown",
      "source": [
        "\n",
        "\n",
        "---\n",
        "\n",
        "2024年11月"
      ],
      "metadata": {
        "id": "kN4oVk0ER0H-"
      }
    }
  ]
}